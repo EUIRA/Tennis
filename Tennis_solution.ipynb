{
 "cells": [
  {
   "cell_type": "markdown",
   "metadata": {},
   "source": [
    "# Collaboration and Competition"
   ]
  },
  {
   "cell_type": "markdown",
   "metadata": {},
   "source": [
    "### 1. Import everything and start the Environment"
   ]
  },
  {
   "cell_type": "code",
   "execution_count": 1,
   "metadata": {},
   "outputs": [
    {
     "name": "stderr",
     "output_type": "stream",
     "text": [
      "INFO:unityagents:\n",
      "'Academy' started successfully!\n",
      "Unity Academy name: Academy\n",
      "        Number of Brains: 1\n",
      "        Number of External Brains : 1\n",
      "        Lesson number : 0\n",
      "        Reset Parameters :\n",
      "\t\t\n",
      "Unity brain name: TennisBrain\n",
      "        Number of Visual Observations (per agent): 0\n",
      "        Vector Observation space type: continuous\n",
      "        Vector Observation space size (per agent): 8\n",
      "        Number of stacked Vector Observation: 3\n",
      "        Vector Action space type: continuous\n",
      "        Vector Action space size (per agent): 2\n",
      "        Vector Action descriptions: , \n"
     ]
    }
   ],
   "source": [
    "import torch\n",
    "import torch.nn as nn\n",
    "import torch.optim as optim\n",
    "import torch.nn.functional as F\n",
    "\n",
    "import random\n",
    "import copy\n",
    "import numpy as np\n",
    "from collections import namedtuple, deque\n",
    "from unityagents import UnityEnvironment\n",
    "import matplotlib.pyplot as plt\n",
    "%matplotlib inline\n",
    "\n",
    "env = UnityEnvironment(file_name=\"Tennis.exe\")\n",
    "brain_name = env.brain_names[0]\n",
    "brain = env.brains[brain_name]"
   ]
  },
  {
   "cell_type": "code",
   "execution_count": 2,
   "metadata": {},
   "outputs": [
    {
     "name": "stdout",
     "output_type": "stream",
     "text": [
      "Number of agents: 2\n",
      "Size of each action: 2\n",
      "There are 2 agents. Each observes a state with length: 24\n",
      "The state for the first agent looks like: [ 0.          0.          0.          0.          0.          0.\n",
      "  0.          0.          0.          0.          0.          0.\n",
      "  0.          0.          0.          0.         -6.65278625 -1.5\n",
      " -0.          0.          6.83172083  6.         -0.          0.        ]\n"
     ]
    }
   ],
   "source": [
    "env_info = env.reset(train_mode=True)[brain_name]\n",
    "num_agents = len(env_info.agents)\n",
    "action_size = brain.vector_action_space_size\n",
    "states = env_info.vector_observations\n",
    "state_size = states.shape[1]\n",
    "\n",
    "print('Number of agents:', num_agents)\n",
    "print('Size of each action:', action_size)\n",
    "print('There are {} agents. Each observes a state with length: {}'.format(states.shape[0], state_size))\n",
    "print('The state for the first agent looks like:', states[0])"
   ]
  },
  {
   "cell_type": "markdown",
   "metadata": {},
   "source": [
    "### 2. Actor Critic Network\n"
   ]
  },
  {
   "cell_type": "code",
   "execution_count": 3,
   "metadata": {},
   "outputs": [],
   "source": [
    "def hidden_init(layer):\n",
    "    fan_in = layer.weight.data.size()[0]\n",
    "    lim = 1. / np.sqrt(fan_in)\n",
    "    return (-lim, lim)\n",
    "\n",
    "class Actor(nn.Module):\n",
    "    def __init__(self, state_size, action_size, seed, fc1_units=256, fc2_units=128):\n",
    "        super(Actor, self).__init__()\n",
    "        self.seed = torch.manual_seed(seed)\n",
    "        self.fc1 = nn.Linear(state_size*2, fc1_units)\n",
    "        self.bn1 = nn.BatchNorm1d(fc1_units) # Batch Normalization\n",
    "        self.fc2 = nn.Linear(fc1_units, fc2_units)\n",
    "        self.bn2 = nn.BatchNorm1d(fc2_units)\n",
    "        self.fc3 = nn.Linear(fc2_units, action_size)\n",
    "        self.bn3 = nn.BatchNorm1d(action_size)\n",
    "        self.reset_parameters()\n",
    "    def reset_parameters(self):\n",
    "        self.fc1.weight.data.uniform_(*hidden_init(self.fc1))\n",
    "        self.fc2.weight.data.uniform_(*hidden_init(self.fc2))\n",
    "        self.fc3.weight.data.uniform_(-3e-3, 3e-3)\n",
    "    def forward(self, state):\n",
    "        if state.dim() == 1:\n",
    "            state = torch.unsqueeze(state,0)\n",
    "        x = F.relu(self.bn1(self.fc1(state)))\n",
    "        x = F.relu(self.bn2(self.fc2(x)))\n",
    "        return torch.tanh(self.bn3(self.fc3(x)))\n",
    "    \n",
    "class Critic(nn.Module):\n",
    "    def __init__(self, state_size, action_size, seed, fcs1_units=256, fc2_units=128):\n",
    "        super(Critic, self).__init__()\n",
    "        self.seed = torch.manual_seed(seed)\n",
    "        self.fcs1 = nn.Linear(state_size*2, fcs1_units)\n",
    "        self.bn1 = nn.BatchNorm1d(fcs1_units)\n",
    "        self.fc2 = nn.Linear(fcs1_units+(action_size*2), fc2_units)\n",
    "        self.bn2 = nn.BatchNorm1d(fc2_units)\n",
    "        self.fc3 = nn.Linear(fc2_units, 1)\n",
    "        self.reset_parameters()\n",
    "    def reset_parameters(self):\n",
    "        self.fcs1.weight.data.uniform_(*hidden_init(self.fcs1))\n",
    "        self.fc2.weight.data.uniform_(*hidden_init(self.fc2))\n",
    "        self.fc3.weight.data.uniform_(-3e-3, 3e-3)\n",
    "    def forward(self, state, action):\n",
    "        if state.dim() == 1:\n",
    "            state = torch.unsqueeze(state,0)\n",
    "        xs = F.relu(self.fcs1(state))\n",
    "        xs = self.bn1(xs)\n",
    "        x = torch.cat((xs, action), dim=1)\n",
    "        x = F.relu(self.fc2(x))\n",
    "        return self.fc3(x) "
   ]
  },
  {
   "cell_type": "markdown",
   "metadata": {},
   "source": [
    "### 3. Replay Buffer"
   ]
  },
  {
   "cell_type": "code",
   "execution_count": 4,
   "metadata": {},
   "outputs": [],
   "source": [
    "class ReplayBuffer:\n",
    "    def __init__(self, action_size, buffer_size, batch_size, seed):\n",
    "        self.memory = deque(maxlen=buffer_size)\n",
    "        self.action_size = action_size\n",
    "        self.batch_size = batch_size\n",
    "        self.experience = namedtuple(\"Experience\", field_names=[\"state\", \"action\", \"reward\", \"next_state\", \"done\"])\n",
    "        self.seed = random.seed(seed)\n",
    "    def add(self, state, action, reward, next_state, done):\n",
    "        e = self.experience(state, action, reward, next_state, done)\n",
    "        self.memory.append(e)\n",
    "    def sample(self):\n",
    "        experiences = random.sample(self.memory, k=self.batch_size)\n",
    "        states = torch.from_numpy(np.vstack([e.state for e in experiences if e is not None])).float().to(device)\n",
    "        actions = torch.from_numpy(np.vstack([e.action for e in experiences if e is not None])).float().to(device)\n",
    "        rewards = torch.from_numpy(np.vstack([e.reward for e in experiences if e is not None])).float().to(device)\n",
    "        next_states = torch.from_numpy(np.vstack([e.next_state for e in experiences if e is not None])).float().to(device)\n",
    "        dones = torch.from_numpy(np.vstack([e.done for e in experiences if e is not None]).astype(np.uint8)).float().to(device)\n",
    "        return (states, actions, rewards, next_states, dones)\n",
    "    def __len__(self):\n",
    "        return len(self.memory)"
   ]
  },
  {
   "cell_type": "markdown",
   "metadata": {},
   "source": [
    "### 4. Noisy process"
   ]
  },
  {
   "cell_type": "code",
   "execution_count": 5,
   "metadata": {},
   "outputs": [],
   "source": [
    "class OUNoise:    \n",
    "    def __init__(self, size, seed, mu=0.0): \n",
    "        self.mu = np.ones(size)*0.0\n",
    "        self.theta = 0.15\n",
    "        self.sigma = 0.2\n",
    "        self.seed = random.seed(seed)\n",
    "        self.size = size\n",
    "        self.reset()\n",
    "    def reset(self):\n",
    "        self.state = copy.copy(self.mu)\n",
    "    def sample(self):\n",
    "        x = self.state\n",
    "        dx = self.theta * (self.mu - x) + self.sigma * np.random.standard_normal(self.size)\n",
    "        self.state = x + dx\n",
    "        return self.state"
   ]
  },
  {
   "cell_type": "markdown",
   "metadata": {},
   "source": [
    "### 5. Agent"
   ]
  },
  {
   "cell_type": "code",
   "execution_count": 6,
   "metadata": {},
   "outputs": [],
   "source": [
    "class Agent():\n",
    "    def __init__(self, state_size, action_size, num_agents, random_seed):\n",
    "        self.state_size = state_size\n",
    "        self.action_size = action_size\n",
    "        self.num_agents = num_agents\n",
    "        self.seed = random.seed(random_seed)\n",
    "        self.epsilon = 5\n",
    "        self.t_step = 0\n",
    "        self.actor_local = Actor(state_size, action_size, random_seed).to(device)\n",
    "        self.actor_target = Actor(state_size, action_size, random_seed).to(device)\n",
    "        self.actor_optimizer = optim.Adam(self.actor_local.parameters(), lr=LR_ACTOR)\n",
    "        self.critic_local = Critic(state_size, action_size, random_seed).to(device)\n",
    "        self.critic_target = Critic(state_size, action_size, random_seed).to(device)\n",
    "        self.critic_optimizer = optim.Adam(self.critic_local.parameters(), lr=LR_CRITIC, weight_decay=WEIGHT_DECAY)\n",
    "        self.noise = OUNoise((num_agents, action_size), random_seed)\n",
    "        self.memory = ReplayBuffer(action_size, BUFFER_SIZE, BATCH_SIZE, random_seed)\n",
    "    def act(self, states, add_noise):\n",
    "        states = torch.from_numpy(states).float().to(device)\n",
    "        actions = np.zeros((self.num_agents, self.action_size))\n",
    "        self.actor_local.eval()\n",
    "        with torch.no_grad():\n",
    "            for agent_num, state in enumerate(states):\n",
    "                action = self.actor_local(state).cpu().data.numpy()\n",
    "                actions[agent_num, :] = action\n",
    "        self.actor_local.train()\n",
    "        if add_noise:\n",
    "            actions += self.epsilon * self.noise.sample()\n",
    "        return np.clip(actions, -1, 1)\n",
    "    def step(self, state, action, reward, next_state, done, agent_number):\n",
    "        self.t_step += 1\n",
    "        self.memory.add(state, action, reward, next_state, done)\n",
    "        if len(self.memory) > BATCH_SIZE:\n",
    "            if self.t_step % UPDATE_EVERY == 0:\n",
    "                for _ in range(N_UPDATES):\n",
    "                    experiences = self.memory.sample()\n",
    "                    self.learn(experiences, GAMMA, agent_number)\n",
    "    def reset(self):\n",
    "        self.noise.reset()\n",
    "    def learn(self, experiences, gamma, agent_number):\n",
    "        states, actions, rewards, next_states, dones = experiences\n",
    "        # ---------------------------- update critic ---------------------------- #\n",
    "        actions_next = self.actor_target(next_states)\n",
    "        if agent_number == 0:\n",
    "            actions_next = torch.cat((actions_next, actions[:,2:]), dim=1)\n",
    "        else:\n",
    "            actions_next = torch.cat((actions[:,:2], actions_next), dim=1)\n",
    "        Q_targets_next = self.critic_target(next_states, actions_next)\n",
    "        Q_targets = rewards + (gamma * Q_targets_next * (1 - dones))\n",
    "        Q_expected = self.critic_local(states, actions)\n",
    "        critic_loss = F.mse_loss(Q_expected, Q_targets)\n",
    "        self.critic_optimizer.zero_grad()\n",
    "        critic_loss.backward()\n",
    "        self.critic_optimizer.step()\n",
    "        # ---------------------------- update actor ---------------------------- #\n",
    "        actions_pred = self.actor_local(states)\n",
    "        if agent_number == 0:\n",
    "            actions_pred = torch.cat((actions_pred, actions[:,2:]), dim=1)\n",
    "        else:\n",
    "            actions_pred = torch.cat((actions[:,:2], actions_pred), dim=1)\n",
    "        actor_loss = -self.critic_local(states, actions_pred).mean()\n",
    "        self.actor_optimizer.zero_grad()\n",
    "        actor_loss.backward()\n",
    "        self.actor_optimizer.step()\n",
    "        # ----------------------- update target networks ----------------------- #\n",
    "        self.soft_update(self.critic_local, self.critic_target, TAU)\n",
    "        self.soft_update(self.actor_local, self.actor_target, TAU)                     \n",
    "        self.epsilon = self.epsilon - (1/250)\n",
    "        if self.epsilon < 0:\n",
    "            self.epsilon=0\n",
    "                  \n",
    "    def soft_update(self, local_model, target_model, tau):\n",
    "        for target_param, local_param in zip(target_model.parameters(), local_model.parameters()):\n",
    "            target_param.data.copy_(tau*local_param.data + (1.0-tau)*target_param.data)"
   ]
  },
  {
   "cell_type": "markdown",
   "metadata": {},
   "source": [
    "### 6. Training MADDPG"
   ]
  },
  {
   "cell_type": "code",
   "execution_count": 7,
   "metadata": {
    "scrolled": true
   },
   "outputs": [
    {
     "name": "stdout",
     "output_type": "stream",
     "text": [
      "Episode 0\tAverage Score: 0.000\tMax Score: 0.000\n"
     ]
    },
    {
     "name": "stderr",
     "output_type": "stream",
     "text": [
      "C:\\Users\\user\\Anaconda3\\envs\\drlnd\\lib\\site-packages\\ipykernel_launcher.py:50: UserWarning: Using a target size (torch.Size([128, 2])) that is different to the input size (torch.Size([128, 1])). This will likely lead to incorrect results due to broadcasting. Please ensure they have the same size.\n"
     ]
    },
    {
     "name": "stdout",
     "output_type": "stream",
     "text": [
      "Episode 10\tAverage Score: 0.000\tMax Score: 0.000\n",
      "Episode 20\tAverage Score: 0.009\tMax Score: 0.100\n",
      "Episode 30\tAverage Score: 0.012\tMax Score: 0.000\n",
      "Episode 40\tAverage Score: 0.014\tMax Score: 0.000\n",
      "Episode 50\tAverage Score: 0.013\tMax Score: 0.000\n",
      "Episode 60\tAverage Score: 0.013\tMax Score: 0.000\n",
      "Episode 70\tAverage Score: 0.011\tMax Score: 0.000\n",
      "Episode 80\tAverage Score: 0.011\tMax Score: 0.000\n",
      "Episode 90\tAverage Score: 0.012\tMax Score: 0.000\n",
      "Episode 100\tAverage Score: 0.013\tMax Score: 0.100\n",
      "Episode 110\tAverage Score: 0.015\tMax Score: 0.000\n",
      "Episode 120\tAverage Score: 0.018\tMax Score: 0.100\n",
      "Episode 130\tAverage Score: 0.022\tMax Score: 0.090\n",
      "Episode 140\tAverage Score: 0.029\tMax Score: 0.100\n",
      "Episode 150\tAverage Score: 0.036\tMax Score: 0.000\n",
      "Episode 160\tAverage Score: 0.044\tMax Score: 0.100\n",
      "Episode 170\tAverage Score: 0.052\tMax Score: 0.100\n",
      "Episode 180\tAverage Score: 0.060\tMax Score: 0.100\n",
      "Episode 190\tAverage Score: 0.062\tMax Score: 0.000\n",
      "Episode 200\tAverage Score: 0.070\tMax Score: 0.100\n",
      "Episode 210\tAverage Score: 0.079\tMax Score: 0.100\n",
      "Episode 220\tAverage Score: 0.082\tMax Score: 0.000\n",
      "Episode 230\tAverage Score: 0.090\tMax Score: 0.000\n",
      "Episode 240\tAverage Score: 0.094\tMax Score: 0.100\n",
      "Episode 250\tAverage Score: 0.096\tMax Score: 0.100\n",
      "Episode 260\tAverage Score: 0.097\tMax Score: 0.100\n",
      "Episode 270\tAverage Score: 0.103\tMax Score: 0.100\n",
      "Episode 280\tAverage Score: 0.105\tMax Score: 0.090\n",
      "Episode 290\tAverage Score: 0.119\tMax Score: 0.100\n",
      "Episode 300\tAverage Score: 0.134\tMax Score: 0.000\n",
      "Episode 310\tAverage Score: 0.143\tMax Score: 0.600\n",
      "Episode 320\tAverage Score: 0.167\tMax Score: 0.400\n",
      "Episode 330\tAverage Score: 0.174\tMax Score: 0.200\n",
      "Episode 340\tAverage Score: 0.216\tMax Score: 0.400\n",
      "Episode 350\tAverage Score: 0.233\tMax Score: 0.100\n",
      "Episode 360\tAverage Score: 0.257\tMax Score: 0.090\n",
      "Episode 370\tAverage Score: 0.304\tMax Score: 0.500\n",
      "Episode 380\tAverage Score: 0.332\tMax Score: 0.200\n",
      "Episode 390\tAverage Score: 0.340\tMax Score: 0.100\n",
      "Episode 400\tAverage Score: 0.340\tMax Score: 0.300\n",
      "Episode 410\tAverage Score: 0.370\tMax Score: 1.000\n",
      "Episode 420\tAverage Score: 0.383\tMax Score: 0.400\n",
      "Episode 430\tAverage Score: 0.418\tMax Score: 0.600\n",
      "Episode 440\tAverage Score: 0.425\tMax Score: 0.300\n",
      "Episode 450\tAverage Score: 0.503\tMax Score: 2.100\n",
      "\n",
      "Target Score reached in 350th episodes.\tAverage Score: 0.503\n"
     ]
    }
   ],
   "source": [
    "TAU = 1e-2\n",
    "GAMMA = 0.99\n",
    "LR_ACTOR = 1e-3\n",
    "LR_CRITIC = 1e-3\n",
    "WEIGHT_DECAY = 0 # L2\n",
    "UPDATE_EVERY = 1\n",
    "N_UPDATES = 1\n",
    "ADD_NOISE = True\n",
    "BATCH_SIZE = 128\n",
    "BUFFER_SIZE = int(1e6)\n",
    "n_episodes = 2000\n",
    "scores_deque = deque(maxlen=100)\n",
    "\n",
    "scores_max = []\n",
    "MA = []\n",
    "\n",
    "device = torch.device(\"cuda:0\" if torch.cuda.is_available() else \"cpu\")\n",
    "\n",
    "Agent_1st = Agent(state_size, action_size, 1, random_seed=0)\n",
    "Agent_2nd = Agent(state_size, action_size, 1, random_seed=0)\n",
    "\n",
    "for i_episode in range(n_episodes):\n",
    "    env_info = env.reset(train_mode=True)[brain_name]\n",
    "    states = env_info.vector_observations\n",
    "    states = np.reshape(states, (1,48))\n",
    "    scores = np.zeros(num_agents)\n",
    "    Agent_1st.reset()\n",
    "    Agent_2nd.reset()\n",
    "    while True:\n",
    "        action_1st = Agent_1st.act(states, ADD_NOISE)\n",
    "        action_2nd = Agent_2nd.act(states, ADD_NOISE)\n",
    "        actions = np.concatenate((action_1st, action_2nd), axis=0)\n",
    "        actions = np.reshape(actions, (1, 4))\n",
    "        env_info = env.step(actions)[brain_name]\n",
    "        next_states = env_info.vector_observations\n",
    "        next_states = np.reshape(next_states, (1, 48))\n",
    "        rewards = env_info.rewards\n",
    "        done = env_info.local_done\n",
    "        Agent_1st.step(states, actions, rewards[0], next_states, done, 0)\n",
    "        Agent_2nd.step(states, actions, rewards[1], next_states, done, 1)\n",
    "        scores += rewards\n",
    "        states = next_states\n",
    "        if np.any(done):\n",
    "            break\n",
    "    scores_deque.append(np.max(scores))\n",
    "    scores_max.append(np.max(scores))\n",
    "    MA.append(np.mean(scores_deque))\n",
    "                \n",
    "    if i_episode % 10 == 0:\n",
    "        print('Episode {}\\tAverage Score: {:.3f}\\tMax Score: {:.3f}'.format(\n",
    "            i_episode, np.mean(scores_deque), np.max(scores)))\n",
    "\n",
    "    if np.mean(scores_deque)>=0.5:\n",
    "        print('\\nTarget Score reached in {:d}th episodes.\\tAverage Score: {:.3f}'.format(i_episode-100, np.mean(scores_deque)))\n",
    "        torch.save(Agent_1st.actor_local.state_dict(), 'checkpoint_1stActor.pth')\n",
    "        torch.save(Agent_1st.critic_local.state_dict(), 'checkpoint_1stCritic.pth')\n",
    "        torch.save(Agent_2nd.actor_local.state_dict(), 'checkpoint_2ndActor.pth')\n",
    "        torch.save(Agent_2nd.critic_local.state_dict(), 'checkpoint_2ndCritic.pth')\n",
    "        break"
   ]
  },
  {
   "cell_type": "code",
   "execution_count": 8,
   "metadata": {
    "scrolled": true
   },
   "outputs": [
    {
     "data": {
      "image/png": "[encoded data removed]",
      "text/plain": [
       "<Figure size 432x288 with 1 Axes>"
      ]
     },
     "metadata": {
      "needs_background": "light"
     },
     "output_type": "display_data"
    }
   ],
   "source": [
    "fig = plt.figure()\n",
    "ax = fig.add_subplot(111)\n",
    "plt.plot(np.arange(1, len(scores_max)+1), scores_max, label = 'score')\n",
    "plt.plot(np.arange(1, len(MA)+1), MA, label = 'average score')\n",
    "plt.ylabel('Score')\n",
    "plt.xlabel('Episode #')\n",
    "plt.legend(loc='upper left')\n",
    "plt.show()"
   ]
  },
  {
   "cell_type": "markdown",
   "metadata": {},
   "source": [
    "### 7. Let's look at the smart agent we trained"
   ]
  },
  {
   "cell_type": "code",
   "execution_count": 9,
   "metadata": {},
   "outputs": [],
   "source": [
    "Agent_1st.actor_local.load_state_dict(torch.load('checkpoint_1stActor.pth', map_location='cpu'))\n",
    "Agent_1st.critic_local.load_state_dict(torch.load('checkpoint_1stCritic.pth', map_location='cpu'))\n",
    "Agent_2nd.actor_local.load_state_dict(torch.load('checkpoint_2ndActor.pth', map_location='cpu'))\n",
    "Agent_2nd.critic_local.load_state_dict(torch.load('checkpoint_2ndCritic.pth', map_location='cpu'))\n",
    "env_info = env.reset(train_mode=False)[brain_name]        \n",
    "states = env_info.vector_observations                  \n",
    "states = np.reshape(states, (1,48))\n",
    "\n",
    "for i in range(200):\n",
    "    action_1st = Agent_1st.act(states, add_noise=False)         \n",
    "    action_2nd = Agent_2nd.act(states, add_noise=False)        \n",
    "    actions = np.concatenate((action_1st, action_2nd), axis=0) \n",
    "    actions = np.reshape(actions, (1, 4))                              \n",
    "    env_info = env.step(actions)[brain_name]        \n",
    "    next_states = env_info.vector_observations        \n",
    "    next_states = np.reshape(next_states, (1, 48))\n",
    "    rewards = env_info.rewards                        \n",
    "    dones = env_info.local_done                 \n",
    "    states = next_states                              \n",
    "    if np.any(dones):                              \n",
    "        break"
   ]
  },
  {
   "cell_type": "code",
   "execution_count": 10,
   "metadata": {},
   "outputs": [],
   "source": [
    "# env.close()"
   ]
  },
  {
   "cell_type": "markdown",
   "metadata": {},
   "source": [
    "Thank you!"
   ]
  }
 ],
 "metadata": {
  "kernelspec": {
   "display_name": "drlnd",
   "language": "python",
   "name": "drlnd"
  },
  "language_info": {
   "codemirror_mode": {
    "name": "ipython",
    "version": 3
   },
   "file_extension": ".py",
   "mimetype": "text/x-python",
   "name": "python",
   "nbconvert_exporter": "python",
   "pygments_lexer": "ipython3",
   "version": "3.6.9"
  }
 },
 "nbformat": 4,
 "nbformat_minor": 2
}
